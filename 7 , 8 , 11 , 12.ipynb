{
 "cells": [
  {
   "cell_type": "code",
   "execution_count": 1,
   "id": "518a58b1",
   "metadata": {},
   "outputs": [],
   "source": [
    "import pandas as pd"
   ]
  },
  {
   "cell_type": "code",
   "execution_count": 2,
   "id": "681fd951",
   "metadata": {},
   "outputs": [
    {
     "name": "stdout",
     "output_type": "stream",
     "text": [
      "{'the', 'from', 'largest', 'fourth', 'Mars', 'sun', 'Jupiter', 'is', 'planet'}\n"
     ]
    }
   ],
   "source": [
    "document_A = 'Jupiter is the largest planet'\n",
    "document_B =\"Mars is the fourth planet from sun\"\n",
    "bagofwordsA = document_A.split(' ')\n",
    "bagofwordsB = document_B.split(' ')\n",
    "unique_words = set(bagofwordsA).union(set(bagofwordsB))\n",
    "print(unique_words)"
   ]
  },
  {
   "cell_type": "code",
   "execution_count": 3,
   "id": "ac9ed814",
   "metadata": {},
   "outputs": [
    {
     "data": {
      "text/html": [
       "<div>\n",
       "<style scoped>\n",
       "    .dataframe tbody tr th:only-of-type {\n",
       "        vertical-align: middle;\n",
       "    }\n",
       "\n",
       "    .dataframe tbody tr th {\n",
       "        vertical-align: top;\n",
       "    }\n",
       "\n",
       "    .dataframe thead th {\n",
       "        text-align: right;\n",
       "    }\n",
       "</style>\n",
       "<table border=\"1\" class=\"dataframe\">\n",
       "  <thead>\n",
       "    <tr style=\"text-align: right;\">\n",
       "      <th></th>\n",
       "      <th>the</th>\n",
       "      <th>from</th>\n",
       "      <th>largest</th>\n",
       "      <th>fourth</th>\n",
       "      <th>Mars</th>\n",
       "      <th>sun</th>\n",
       "      <th>Jupiter</th>\n",
       "      <th>is</th>\n",
       "      <th>planet</th>\n",
       "    </tr>\n",
       "  </thead>\n",
       "  <tbody>\n",
       "    <tr>\n",
       "      <th>0</th>\n",
       "      <td>1</td>\n",
       "      <td>0</td>\n",
       "      <td>1</td>\n",
       "      <td>0</td>\n",
       "      <td>0</td>\n",
       "      <td>0</td>\n",
       "      <td>1</td>\n",
       "      <td>1</td>\n",
       "      <td>1</td>\n",
       "    </tr>\n",
       "    <tr>\n",
       "      <th>1</th>\n",
       "      <td>1</td>\n",
       "      <td>1</td>\n",
       "      <td>0</td>\n",
       "      <td>1</td>\n",
       "      <td>1</td>\n",
       "      <td>1</td>\n",
       "      <td>0</td>\n",
       "      <td>1</td>\n",
       "      <td>1</td>\n",
       "    </tr>\n",
       "  </tbody>\n",
       "</table>\n",
       "</div>"
      ],
      "text/plain": [
       "   the  from  largest  fourth  Mars  sun  Jupiter  is  planet\n",
       "0    1     0        1       0     0    0        1   1       1\n",
       "1    1     1        0       1     1    1        0   1       1"
      ]
     },
     "execution_count": 3,
     "metadata": {},
     "output_type": "execute_result"
    }
   ],
   "source": [
    "wordDictA = dict.fromkeys(unique_words,0)\n",
    "wordDictB = dict.fromkeys(unique_words,0)\n",
    "for words in bagofwordsA:\n",
    "    wordDictA[words]+=1\n",
    "for words in bagofwordsB:\n",
    "    wordDictB[words]+=1\n",
    "pd.DataFrame([wordDictA,wordDictB])  "
   ]
  },
  {
   "cell_type": "code",
   "execution_count": 4,
   "id": "de2feff9",
   "metadata": {},
   "outputs": [],
   "source": [
    "def compute(wordDict,bagofwords):\n",
    "    tfDict={}\n",
    "    bagofwordscount = len(bagofwords)\n",
    "    for word,count in wordDict.items():\n",
    "        tfDict[word] = count/float(bagofwordscount) \n",
    "    return tfDict"
   ]
  },
  {
   "cell_type": "code",
   "execution_count": 6,
   "id": "b489f134",
   "metadata": {},
   "outputs": [],
   "source": [
    "tfA = compute(wordDictA,bagofwordsA)\n",
    "tfB = compute(wordDictB,bagofwordsB)"
   ]
  },
  {
   "cell_type": "code",
   "execution_count": 7,
   "id": "570be274",
   "metadata": {},
   "outputs": [
    {
     "name": "stdout",
     "output_type": "stream",
     "text": [
      "{'the': 0.2, 'from': 0.0, 'largest': 0.2, 'fourth': 0.0, 'Mars': 0.0, 'sun': 0.0, 'Jupiter': 0.2, 'is': 0.2, 'planet': 0.2}\n"
     ]
    }
   ],
   "source": [
    "print(tfA)"
   ]
  },
  {
   "cell_type": "code",
   "execution_count": 8,
   "id": "e33612fe",
   "metadata": {},
   "outputs": [
    {
     "name": "stdout",
     "output_type": "stream",
     "text": [
      "{'the': 0.14285714285714285, 'from': 0.14285714285714285, 'largest': 0.0, 'fourth': 0.14285714285714285, 'Mars': 0.14285714285714285, 'sun': 0.14285714285714285, 'Jupiter': 0.0, 'is': 0.14285714285714285, 'planet': 0.14285714285714285}\n"
     ]
    }
   ],
   "source": [
    "print(tfB)"
   ]
  },
  {
   "cell_type": "code",
   "execution_count": 11,
   "id": "d7782138",
   "metadata": {},
   "outputs": [],
   "source": [
    "import math\n",
    "def computeidf(document):\n",
    "    idf={}\n",
    "    N = len(document)\n",
    "    idfDict = dict.fromkeys(document[0].keys(),0)\n",
    "    for words,val in idfDict.items():\n",
    "        idfDict[words]=math.log10(N/(float(val)+1))\n",
    "        #idfDict[word] = math.log10(N/(float(val)+1))\n",
    "    return idfDict\n",
    "idfs = computeidf([wordDictA,wordDictB])"
   ]
  },
  {
   "cell_type": "code",
   "execution_count": 12,
   "id": "de567490",
   "metadata": {},
   "outputs": [
    {
     "data": {
      "text/plain": [
       "{'the': 0.3010299956639812,\n",
       " 'from': 0.3010299956639812,\n",
       " 'largest': 0.3010299956639812,\n",
       " 'fourth': 0.3010299956639812,\n",
       " 'Mars': 0.3010299956639812,\n",
       " 'sun': 0.3010299956639812,\n",
       " 'Jupiter': 0.3010299956639812,\n",
       " 'is': 0.3010299956639812,\n",
       " 'planet': 0.3010299956639812}"
      ]
     },
     "execution_count": 12,
     "metadata": {},
     "output_type": "execute_result"
    }
   ],
   "source": [
    "idfs"
   ]
  },
  {
   "cell_type": "code",
   "execution_count": null,
   "id": "096d671c",
   "metadata": {},
   "outputs": [],
   "source": [
    "import java.io.IOException\n",
    "import java.util.StringTokenizer\n",
    "import org.apache.hadoop.conf.Configuration\n",
    "import org.apache.hadoop.io.Text\n",
    "import org.apache.hadoop.io.IntWriteable\n",
    "import org.apache.hadoop.fs.Path\n",
    "import org.apache.hadoop.mapreduce.Job\n",
    "import org.apache.hadoop.mapreduce.Mapper\n",
    "import org.apache.hadoop.mapreduce.Reducer\n",
    "import org.apache.hadoop.mapreduce.lib.input.FileInputFormat\n",
    "import org.apache.hadoop.mapreduce.lib.output.FileOutputFormat\n",
    "public class WordCount{\n",
    "    public static class TokenizerMapper extends Mapper<Object,Text,Text,IntWriteable>\n",
    "    {\n",
    "        private Text word = new Text()\n",
    "        private final static IntWriteable one = new IntWriteable(1)\n",
    "        public void map(Object key,Text value,Context context)\n",
    "        {\n",
    "            StringTokenizer itr = new StringTokenizer();\n",
    "            while(itr.hasMoreTokens)\n",
    "            {\n",
    "                word.set(itr.nextToken());\n",
    "                context.write(key,one)\n",
    "            }\n",
    "        }\n",
    "    }\n",
    "    \n",
    "    public static class IntSumReducer extends Reducer<Text,IntWriteable,Text,IntWriteable>\n",
    "    {   private IntWriteable result = new IntWriteable();\n",
    "        public void reduce(Text key,Iterable<IntWriteable>values,Context context)\n",
    "        {\n",
    "            sum=0\n",
    "            for(IntWriteable val:values)\n",
    "            {\n",
    "                sum+=val.get()\n",
    "            }\n",
    "            result.set(sum)\n",
    "            context.write(key,result)\n",
    "        }\n",
    "    }\n",
    "    \n",
    "    public static void main(String[args])\n",
    "    {\n",
    "        Configuration conf = new Configuration();\n",
    "        Job job = job getInstance(conf,'word count')\n",
    "        job.setJarByClass('WordClass.class')\n",
    "        job.setMapperClass('TokenizerMapper.class')\n",
    "        job.setReducerClass('IntSumReducer.class')\n",
    "        job.setCombinerClass('IntSumReducer.class')\n",
    "        job.setOutputKeyClass('Text.class')\n",
    "        job.setOutputClaValueClass('IntWriteable.class')\n",
    "        FileInputFormat.input.setpath(job,args([0]))\n",
    "        FileOutputFormat.output.addpath(job,args([0]))\n",
    "        System.exit(job.waitForCompletion('true')?0:1)\n",
    "    }\n",
    "}"
   ]
  },
  {
   "cell_type": "code",
   "execution_count": null,
   "id": "5294c1bc",
   "metadata": {},
   "outputs": [],
   "source": [
    "object checkPositiveNegative\n",
    "def main(args:Array[String])\n",
    "{\n",
    "    var num = -100;\n",
    "    if(num>0)\n",
    "    {\n",
    "        println(\"positive\");\n",
    "    }\n",
    "    else if(num<0)\n",
    "    {\n",
    "        println(\"negative\");\n",
    "    }\n",
    "    else{\n",
    "        println(\"Zero\")\n",
    "    }\n",
    "}"
   ]
  },
  {
   "cell_type": "code",
   "execution_count": 27,
   "id": "6eb9349a",
   "metadata": {},
   "outputs": [],
   "source": [
    "'''def mode(dataset):\n",
    "    count={}\n",
    "    for item in dataset:\n",
    "        if item not in count:\n",
    "            count[i]=1\n",
    "        else:\n",
    "            count[i]+=1\n",
    "    for key in count.keys():\n",
    "        if count[key] == max(count.values()):\n",
    "            print (key)'''\n",
    "def find_mode(data):#re\n",
    "    count={}\n",
    "    for item in data:\n",
    "        if item not in count:\n",
    "            count[item]=1\n",
    "        else:\n",
    "            count[item]+=1\n",
    "    for key in count.keys():\n",
    "        if count[key] == max(count.values()):\n",
    "            return key"
   ]
  },
  {
   "cell_type": "code",
   "execution_count": 29,
   "id": "574bd0f7",
   "metadata": {},
   "outputs": [
    {
     "data": {
      "text/plain": [
       "66"
      ]
     },
     "execution_count": 29,
     "metadata": {},
     "output_type": "execute_result"
    }
   ],
   "source": [
    "dataset =[11,22,33,44,55,66,66,66]\n",
    "find_mode(dataset)"
   ]
  },
  {
   "cell_type": "code",
   "execution_count": 30,
   "id": "dfdac516",
   "metadata": {},
   "outputs": [
    {
     "name": "stdout",
     "output_type": "stream",
     "text": [
      "Requirement already satisfied: nltk in c:\\users\\admin\\anaconda\\lib\\site-packages (3.7)Note: you may need to restart the kernel to use updated packages.\n",
      "\n",
      "Requirement already satisfied: regex>=2021.8.3 in c:\\users\\admin\\anaconda\\lib\\site-packages (from nltk) (2022.7.9)\n",
      "Requirement already satisfied: click in c:\\users\\admin\\anaconda\\lib\\site-packages (from nltk) (8.0.4)\n",
      "Requirement already satisfied: joblib in c:\\users\\admin\\anaconda\\lib\\site-packages (from nltk) (1.1.0)\n",
      "Requirement already satisfied: tqdm in c:\\users\\admin\\anaconda\\lib\\site-packages (from nltk) (4.64.1)\n",
      "Requirement already satisfied: colorama in c:\\users\\admin\\anaconda\\lib\\site-packages (from click->nltk) (0.4.5)\n"
     ]
    }
   ],
   "source": [
    "pip install nltk"
   ]
  },
  {
   "cell_type": "code",
   "execution_count": 31,
   "id": "d6dae6d0",
   "metadata": {},
   "outputs": [],
   "source": [
    "import nltk"
   ]
  },
  {
   "cell_type": "code",
   "execution_count": null,
   "id": "1b6c2dd3",
   "metadata": {},
   "outputs": [],
   "source": [
    "nltk.download('punkt')\n"
   ]
  },
  {
   "cell_type": "code",
   "execution_count": 33,
   "id": "6b074b47",
   "metadata": {},
   "outputs": [],
   "source": [
    "from sklearn.feature_extraction.text import TfidfVectorizer\n",
    "import pandas as pd"
   ]
  },
  {
   "cell_type": "code",
   "execution_count": 35,
   "id": "225b1595",
   "metadata": {},
   "outputs": [
    {
     "name": "stdout",
     "output_type": "stream",
     "text": [
      "  (0, 6)\t0.35520008546852583\n",
      "  (0, 4)\t0.4992213265230509\n",
      "  (0, 8)\t0.4992213265230509\n",
      "  (0, 2)\t0.35520008546852583\n",
      "  (0, 3)\t0.4992213265230509\n",
      "  (1, 7)\t0.4078241041497786\n",
      "  (1, 1)\t0.4078241041497786\n",
      "  (1, 0)\t0.4078241041497786\n",
      "  (1, 9)\t0.4078241041497786\n",
      "  (1, 5)\t0.4078241041497786\n",
      "  (1, 6)\t0.29017020899133733\n",
      "  (1, 2)\t0.29017020899133733\n"
     ]
    }
   ],
   "source": [
    "document_A = 'Jupiter is the largest planet'\n",
    "document_B = 'Mars is tje forth planet from sum'\n",
    "vectorizer = TfidfVectorizer()\n",
    "response = vectorizer.fit_transform([document_A,document_B])\n",
    "print(response)\n"
   ]
  },
  {
   "cell_type": "code",
   "execution_count": 38,
   "id": "885e206a",
   "metadata": {},
   "outputs": [
    {
     "name": "stdout",
     "output_type": "stream",
     "text": [
      "{'the', 'from', 'largest', 'sum', 'Mars', 'tje', 'Jupiter', 'is', 'planet', 'forth'}\n"
     ]
    }
   ],
   "source": [
    "bagofwordsA = document_A.split(' ')\n",
    "bagofwordsB = document_B.split(' ')\n",
    "unique_text = set(bagofwordsA).union(set(bagofwordsB))\n",
    "print(unique_text)"
   ]
  },
  {
   "cell_type": "code",
   "execution_count": 39,
   "id": "6aaeb60b",
   "metadata": {},
   "outputs": [
    {
     "data": {
      "text/html": [
       "<div>\n",
       "<style scoped>\n",
       "    .dataframe tbody tr th:only-of-type {\n",
       "        vertical-align: middle;\n",
       "    }\n",
       "\n",
       "    .dataframe tbody tr th {\n",
       "        vertical-align: top;\n",
       "    }\n",
       "\n",
       "    .dataframe thead th {\n",
       "        text-align: right;\n",
       "    }\n",
       "</style>\n",
       "<table border=\"1\" class=\"dataframe\">\n",
       "  <thead>\n",
       "    <tr style=\"text-align: right;\">\n",
       "      <th></th>\n",
       "      <th>the</th>\n",
       "      <th>from</th>\n",
       "      <th>largest</th>\n",
       "      <th>sum</th>\n",
       "      <th>Mars</th>\n",
       "      <th>tje</th>\n",
       "      <th>Jupiter</th>\n",
       "      <th>is</th>\n",
       "      <th>planet</th>\n",
       "      <th>forth</th>\n",
       "    </tr>\n",
       "  </thead>\n",
       "  <tbody>\n",
       "    <tr>\n",
       "      <th>0</th>\n",
       "      <td>1</td>\n",
       "      <td>0</td>\n",
       "      <td>1</td>\n",
       "      <td>0</td>\n",
       "      <td>0</td>\n",
       "      <td>0</td>\n",
       "      <td>1</td>\n",
       "      <td>1</td>\n",
       "      <td>1</td>\n",
       "      <td>0</td>\n",
       "    </tr>\n",
       "    <tr>\n",
       "      <th>1</th>\n",
       "      <td>0</td>\n",
       "      <td>1</td>\n",
       "      <td>0</td>\n",
       "      <td>1</td>\n",
       "      <td>1</td>\n",
       "      <td>1</td>\n",
       "      <td>0</td>\n",
       "      <td>1</td>\n",
       "      <td>1</td>\n",
       "      <td>1</td>\n",
       "    </tr>\n",
       "  </tbody>\n",
       "</table>\n",
       "</div>"
      ],
      "text/plain": [
       "   the  from  largest  sum  Mars  tje  Jupiter  is  planet  forth\n",
       "0    1     0        1    0     0    0        1   1       1      0\n",
       "1    0     1        0    1     1    1        0   1       1      1"
      ]
     },
     "execution_count": 39,
     "metadata": {},
     "output_type": "execute_result"
    }
   ],
   "source": [
    "wordDictA = dict.fromkeys(unique_text,0)\n",
    "wordDictB = dict.fromkeys(unique_text,0)\n",
    "for i in bagofwordsA:\n",
    "    wordDictA[i]+=1\n",
    "for i in bagofwordsB:\n",
    "    wordDictB[i]+=1\n",
    "    \n",
    "pd.DataFrame([wordDictA,wordDictB])\n"
   ]
  },
  {
   "cell_type": "code",
   "execution_count": 40,
   "id": "72ba8f5a",
   "metadata": {},
   "outputs": [],
   "source": [
    "def compute(dictList,bagofwords):\n",
    "    bagofwordscount = len(bagofwords)\n",
    "    tf={}\n",
    "    for word,count in dictList.items():\n",
    "        tf[word] = count/float(bagofwordscount)\n",
    "    return tf"
   ]
  },
  {
   "cell_type": "code",
   "execution_count": 41,
   "id": "035017a4",
   "metadata": {},
   "outputs": [],
   "source": [
    "tfA = compute(wordDictA,bagofwordsA)\n",
    "tfB = compute(wordDictB,bagofwordsB)"
   ]
  },
  {
   "cell_type": "code",
   "execution_count": null,
   "id": "ffd9a884",
   "metadata": {},
   "outputs": [],
   "source": [
    "def computeidf(document):\n",
    "    idfDict = {}\n",
    "    N = len(document)\n",
    "    idfDict = dict.fromkeys(document[0].keys(),0)\n",
    "    for word,val in idfDict.items():\n",
    "        idfDict[word] = math.log10(N/(float(val)+1))\n",
    "        return idfDict\n",
    "idfs=computeidf([wordDictA,wordDictB])\n",
    "def computetfidf(tfBows,idfs):\n",
    "    tfidf={}\n",
    "    for words,val in tfBows.items():\n",
    "        tfidf[words] = val*idfs[words]\n",
    "    return tfidf\n",
    "    "
   ]
  },
  {
   "cell_type": "code",
   "execution_count": 42,
   "id": "01e9a264",
   "metadata": {},
   "outputs": [],
   "source": [
    "import nltk"
   ]
  },
  {
   "cell_type": "code",
   "execution_count": 43,
   "id": "101fe11d",
   "metadata": {},
   "outputs": [],
   "source": [
    "from nltk import sent_tokenize,word_tokenize\n",
    "from nltk.corpus import stopwords"
   ]
  },
  {
   "cell_type": "code",
   "execution_count": 44,
   "id": "52e00b6f",
   "metadata": {},
   "outputs": [
    {
     "name": "stdout",
     "output_type": "stream",
     "text": [
      "['Jupiter is the largest planet']\n",
      "['Jupiter', 'is', 'the', 'largest', 'planet']\n"
     ]
    }
   ],
   "source": [
    "sentence = \"Jupiter is the largest planet\"\n",
    "print(sent_tokenize(sentence))\n",
    "print(word_tokenize(sentence))"
   ]
  },
  {
   "cell_type": "code",
   "execution_count": 45,
   "id": "a0a989df",
   "metadata": {},
   "outputs": [],
   "source": [
    "from nltk import pos_tag"
   ]
  },
  {
   "cell_type": "code",
   "execution_count": 46,
   "id": "33e84bbb",
   "metadata": {},
   "outputs": [],
   "source": [
    "words = word_tokenize(sentence)"
   ]
  },
  {
   "cell_type": "code",
   "execution_count": 47,
   "id": "d9ad86cd",
   "metadata": {},
   "outputs": [
    {
     "name": "stdout",
     "output_type": "stream",
     "text": [
      "[('Jupiter', 'NN'), ('is', 'VBZ'), ('the', 'DT'), ('largest', 'JJS'), ('planet', 'NN')]\n"
     ]
    }
   ],
   "source": [
    "print(pos_tag(words))"
   ]
  },
  {
   "cell_type": "code",
   "execution_count": 48,
   "id": "3b238012",
   "metadata": {},
   "outputs": [],
   "source": [
    "from nltk.stem import PorterStemmer\n",
    "from nltk.stem import WordNetLemmatizer"
   ]
  },
  {
   "cell_type": "code",
   "execution_count": 53,
   "id": "739196e3",
   "metadata": {},
   "outputs": [],
   "source": [
    "stemmer = PorterStemmer()"
   ]
  },
  {
   "cell_type": "code",
   "execution_count": 54,
   "id": "a873dad0",
   "metadata": {},
   "outputs": [],
   "source": [
    "words = word_tokenize(sentence) "
   ]
  },
  {
   "cell_type": "code",
   "execution_count": 55,
   "id": "33c32a42",
   "metadata": {},
   "outputs": [
    {
     "name": "stdout",
     "output_type": "stream",
     "text": [
      "Jupiter jupit\n",
      "is is\n",
      "the the\n",
      "largest largest\n",
      "planet planet\n"
     ]
    }
   ],
   "source": [
    "for w in words:\n",
    "    print(w,stemmer.stem(w))"
   ]
  },
  {
   "cell_type": "code",
   "execution_count": 56,
   "id": "0396d7b9",
   "metadata": {},
   "outputs": [],
   "source": [
    "lemmatize = WordNetLemmatizer()"
   ]
  },
  {
   "cell_type": "code",
   "execution_count": 57,
   "id": "876e371a",
   "metadata": {},
   "outputs": [],
   "source": [
    "words = word_tokenize(sentence) "
   ]
  },
  {
   "cell_type": "code",
   "execution_count": 59,
   "id": "302c8183",
   "metadata": {},
   "outputs": [
    {
     "name": "stdout",
     "output_type": "stream",
     "text": [
      "Jupiter Jupiter\n",
      "is is\n",
      "the the\n",
      "largest largest\n",
      "planet planet\n"
     ]
    }
   ],
   "source": [
    "for w in words:\n",
    "    print(w,lemmatize.lemmatize(w))"
   ]
  },
  {
   "cell_type": "code",
   "execution_count": 60,
   "id": "4f42966b",
   "metadata": {},
   "outputs": [],
   "source": [
    "documentA = 'Jupiter is the largest planet'\n",
    "documentB = 'Mars is the fourth planet from sun'\n",
    "bagofwordsA = documentA.split(' ')\n",
    "bagofwordsB = documentB.split(' ')\n",
    "unique_words = set(bagofwordsA).union(set(bagofwordsB))"
   ]
  },
  {
   "cell_type": "code",
   "execution_count": 63,
   "id": "c552abac",
   "metadata": {},
   "outputs": [
    {
     "data": {
      "text/html": [
       "<div>\n",
       "<style scoped>\n",
       "    .dataframe tbody tr th:only-of-type {\n",
       "        vertical-align: middle;\n",
       "    }\n",
       "\n",
       "    .dataframe tbody tr th {\n",
       "        vertical-align: top;\n",
       "    }\n",
       "\n",
       "    .dataframe thead th {\n",
       "        text-align: right;\n",
       "    }\n",
       "</style>\n",
       "<table border=\"1\" class=\"dataframe\">\n",
       "  <thead>\n",
       "    <tr style=\"text-align: right;\">\n",
       "      <th></th>\n",
       "      <th>the</th>\n",
       "      <th>from</th>\n",
       "      <th>largest</th>\n",
       "      <th>fourth</th>\n",
       "      <th>Mars</th>\n",
       "      <th>sun</th>\n",
       "      <th>Jupiter</th>\n",
       "      <th>is</th>\n",
       "      <th>planet</th>\n",
       "    </tr>\n",
       "  </thead>\n",
       "  <tbody>\n",
       "    <tr>\n",
       "      <th>0</th>\n",
       "      <td>1</td>\n",
       "      <td>0</td>\n",
       "      <td>1</td>\n",
       "      <td>0</td>\n",
       "      <td>0</td>\n",
       "      <td>0</td>\n",
       "      <td>1</td>\n",
       "      <td>1</td>\n",
       "      <td>1</td>\n",
       "    </tr>\n",
       "    <tr>\n",
       "      <th>1</th>\n",
       "      <td>1</td>\n",
       "      <td>1</td>\n",
       "      <td>0</td>\n",
       "      <td>1</td>\n",
       "      <td>1</td>\n",
       "      <td>1</td>\n",
       "      <td>0</td>\n",
       "      <td>1</td>\n",
       "      <td>1</td>\n",
       "    </tr>\n",
       "  </tbody>\n",
       "</table>\n",
       "</div>"
      ],
      "text/plain": [
       "   the  from  largest  fourth  Mars  sun  Jupiter  is  planet\n",
       "0    1     0        1       0     0    0        1   1       1\n",
       "1    1     1        0       1     1    1        0   1       1"
      ]
     },
     "execution_count": 63,
     "metadata": {},
     "output_type": "execute_result"
    }
   ],
   "source": [
    "wordDictA = dict.fromkeys(unique_words,0)\n",
    "wordDictB = dict.fromkeys(unique_words,0)\n",
    "for word in bagofwordsA:\n",
    "    wordDictA[word]+=1\n",
    "for word in bagofwordsB:\n",
    "    wordDictB[word]+=1\n",
    "pd.DataFrame([wordDictA,wordDictB])"
   ]
  },
  {
   "cell_type": "code",
   "execution_count": 64,
   "id": "d98e2f9d",
   "metadata": {},
   "outputs": [],
   "source": [
    "def compute(dictList,bagofwords):\n",
    "    tf={}\n",
    "    bagofwordscount = len(bagofwords)\n",
    "    for words,count in dictList.items():\n",
    "        tf[words] = count/float(bagofwordscount)\n",
    "    return tf"
   ]
  },
  {
   "cell_type": "code",
   "execution_count": 65,
   "id": "644eae05",
   "metadata": {},
   "outputs": [],
   "source": [
    "tfA = compute(wordDictA,bagofwordsA)\n",
    "tfB = compute(wordDictB,bagofwordsB)"
   ]
  },
  {
   "cell_type": "code",
   "execution_count": 67,
   "id": "1e82b464",
   "metadata": {},
   "outputs": [],
   "source": [
    "import math\n",
    "def computeidf(document):\n",
    "    idfs={}\n",
    "    N = len(document)\n",
    "    idfs = dict.fromkeys(document[0].keys(),0)\n",
    "    for word,val in idfs.items():\n",
    "        idfs[word] = math.log10(N/(float(val)+1))\n",
    "    return idfs"
   ]
  },
  {
   "cell_type": "code",
   "execution_count": 68,
   "id": "ebf7d793",
   "metadata": {},
   "outputs": [],
   "source": [
    "idfs = computeidf([wordDictA,wordDictB])"
   ]
  },
  {
   "cell_type": "code",
   "execution_count": 70,
   "id": "93fb00e6",
   "metadata": {},
   "outputs": [],
   "source": [
    "def computetfidf(tfBow,idfs):\n",
    "    tfidf = {}\n",
    "    for word,val in tfBow.items():\n",
    "        tfidf[word] = val*idfs[word]\n",
    "    return tfidf\n",
    "    "
   ]
  },
  {
   "cell_type": "code",
   "execution_count": 71,
   "id": "b5c1993d",
   "metadata": {},
   "outputs": [
    {
     "data": {
      "text/html": [
       "<div>\n",
       "<style scoped>\n",
       "    .dataframe tbody tr th:only-of-type {\n",
       "        vertical-align: middle;\n",
       "    }\n",
       "\n",
       "    .dataframe tbody tr th {\n",
       "        vertical-align: top;\n",
       "    }\n",
       "\n",
       "    .dataframe thead th {\n",
       "        text-align: right;\n",
       "    }\n",
       "</style>\n",
       "<table border=\"1\" class=\"dataframe\">\n",
       "  <thead>\n",
       "    <tr style=\"text-align: right;\">\n",
       "      <th></th>\n",
       "      <th>the</th>\n",
       "      <th>from</th>\n",
       "      <th>largest</th>\n",
       "      <th>fourth</th>\n",
       "      <th>Mars</th>\n",
       "      <th>sun</th>\n",
       "      <th>Jupiter</th>\n",
       "      <th>is</th>\n",
       "      <th>planet</th>\n",
       "    </tr>\n",
       "  </thead>\n",
       "  <tbody>\n",
       "    <tr>\n",
       "      <th>0</th>\n",
       "      <td>0.060206</td>\n",
       "      <td>0.000000</td>\n",
       "      <td>0.060206</td>\n",
       "      <td>0.000000</td>\n",
       "      <td>0.000000</td>\n",
       "      <td>0.000000</td>\n",
       "      <td>0.060206</td>\n",
       "      <td>0.060206</td>\n",
       "      <td>0.060206</td>\n",
       "    </tr>\n",
       "    <tr>\n",
       "      <th>1</th>\n",
       "      <td>0.043004</td>\n",
       "      <td>0.043004</td>\n",
       "      <td>0.000000</td>\n",
       "      <td>0.043004</td>\n",
       "      <td>0.043004</td>\n",
       "      <td>0.043004</td>\n",
       "      <td>0.000000</td>\n",
       "      <td>0.043004</td>\n",
       "      <td>0.043004</td>\n",
       "    </tr>\n",
       "  </tbody>\n",
       "</table>\n",
       "</div>"
      ],
      "text/plain": [
       "        the      from   largest    fourth      Mars       sun   Jupiter  \\\n",
       "0  0.060206  0.000000  0.060206  0.000000  0.000000  0.000000  0.060206   \n",
       "1  0.043004  0.043004  0.000000  0.043004  0.043004  0.043004  0.000000   \n",
       "\n",
       "         is    planet  \n",
       "0  0.060206  0.060206  \n",
       "1  0.043004  0.043004  "
      ]
     },
     "execution_count": 71,
     "metadata": {},
     "output_type": "execute_result"
    }
   ],
   "source": [
    "pd.DataFrame([computetfidf(tfA,idfs),computetfidf(tfB,idfs)])\n"
   ]
  },
  {
   "cell_type": "code",
   "execution_count": 72,
   "id": "62a2d457",
   "metadata": {},
   "outputs": [],
   "source": [
    "def mode(dataset):\n",
    "    count={}\n",
    "    for i in dataset:\n",
    "        if i not in count:\n",
    "            count[i] =1\n",
    "        else:\n",
    "            count[i]+=1\n",
    "    for key in count.keys():\n",
    "        if count[key] == max(count.values()):\n",
    "            return key"
   ]
  },
  {
   "cell_type": "code",
   "execution_count": 73,
   "id": "988ba633",
   "metadata": {},
   "outputs": [
    {
     "data": {
      "text/plain": [
       "7"
      ]
     },
     "execution_count": 73,
     "metadata": {},
     "output_type": "execute_result"
    }
   ],
   "source": [
    "dataset = [1,2,3,3,3,4,5,6,7,7,7,7]\n",
    "mode(dataset)"
   ]
  },
  {
   "cell_type": "code",
   "execution_count": null,
   "id": "a2822eab",
   "metadata": {},
   "outputs": [],
   "source": [
    "import java.io.IOException\n",
    "import java.util.StringTokenizer\n",
    "import org.apache.hadoop.conf.Configuration\n",
    "import org.apache.hadoop.io.IntWriteable\n",
    "import org.apache.hadoop.io.Text\n",
    "import org.apache.hadoop.fs.Path\n",
    "import org.apache.hadoop.mapreduce.Mapper\n",
    "import org.apache.hadoop.mapreduce.Job\n",
    "import org.apache.hadoop.mapreduce.Reducer\n",
    "import org.apache.hadoop.mapreduce.lib.input.FileInputFormat\n",
    "import org.apache.hadoop.mapreduce.output.FileOutputFormat\n",
    "\n",
    "public class wordcount\n",
    "{\n",
    "    public static TokenizerMapper extends Mapper<Object,Text,Text,IntWriteable>\n",
    "    {\n",
    "        private Text word = new Text()\n",
    "        private final static IntWriteable one = new IntWriteable(1)\n",
    "        public void map(Object key,Text value,Context context)\n",
    "        {\n",
    "            StringTokenizer itr = new StringTokenizer();\n",
    "            while(itr.hasMoreTokens())\n",
    "            {\n",
    "                word.set(itr.nextToken())\n",
    "                context.write(key,one)\n",
    "            }\n",
    "        }\n",
    "    }\n",
    "    public static IntSumReducer extends Reducer<Text,IntWriteable,Text,IntWriteable>\n",
    "    {\n",
    "        private IntWriteable result = new IntWriteable()\n",
    "        public void reduce(Text key,Iterable<IntWriteable>value,Context context)\n",
    "        {\n",
    "             sum=0;\n",
    "            for(IntWriteable val:value)\n",
    "            {\n",
    "                sum+=val.get()\n",
    "            }\n",
    "            result.set(sum)\n",
    "            context.write(key,result)\n",
    "        \n",
    "        }\n",
    "       \n",
    "    }\n",
    "    public static void main(String args[])\n",
    "    {\n",
    "        Configuration conf = new Configuration()\n",
    "        Job job = job getInstance(conf,'word count')\n",
    "        job.setJarByClass('')\n",
    "        job.setMapperClass\n",
    "        job.setReducerClass\n",
    "        job.setCombinerClass\n",
    "        job.setOutputKeyClass\n",
    "        job.setOutputValueClass\n",
    "        FileInputFormat.input.addPath(job,args([0]))\n",
    "    }\n",
    "}"
   ]
  },
  {
   "cell_type": "code",
   "execution_count": null,
   "id": "9ac7324d",
   "metadata": {},
   "outputs": [],
   "source": [
    "object checkpositivenegative\n",
    "{\n",
    "def main(args:Array[String])\n",
    "{\n",
    "    var num1 = -100;\n",
    "    if (num1>0)\n",
    "    {\n",
    "        println(\"positive\");\n",
    "    }\n",
    "    else if(num1<0)\n",
    "    {\n",
    "        println(\"negative\");\n",
    "    }\n",
    "    else{\n",
    "        println(\"zero\")\n",
    "    }\n",
    "}\n",
    "}\n"
   ]
  },
  {
   "cell_type": "code",
   "execution_count": 74,
   "id": "b20bee24",
   "metadata": {},
   "outputs": [],
   "source": [
    "import pandas as pd\n",
    "import numpy as np"
   ]
  },
  {
   "cell_type": "code",
   "execution_count": 76,
   "id": "626e2cd9",
   "metadata": {},
   "outputs": [
    {
     "data": {
      "text/html": [
       "<div>\n",
       "<style scoped>\n",
       "    .dataframe tbody tr th:only-of-type {\n",
       "        vertical-align: middle;\n",
       "    }\n",
       "\n",
       "    .dataframe tbody tr th {\n",
       "        vertical-align: top;\n",
       "    }\n",
       "\n",
       "    .dataframe thead th {\n",
       "        text-align: right;\n",
       "    }\n",
       "</style>\n",
       "<table border=\"1\" class=\"dataframe\">\n",
       "  <thead>\n",
       "    <tr style=\"text-align: right;\">\n",
       "      <th></th>\n",
       "      <th>gender</th>\n",
       "      <th>race/ethnicity</th>\n",
       "      <th>parental level of education</th>\n",
       "      <th>lunch</th>\n",
       "      <th>test preparation course</th>\n",
       "      <th>Year_Birth</th>\n",
       "      <th>math score</th>\n",
       "      <th>reading score</th>\n",
       "      <th>writing score</th>\n",
       "      <th>Dt_Admission</th>\n",
       "      <th>College_Fees</th>\n",
       "    </tr>\n",
       "  </thead>\n",
       "  <tbody>\n",
       "    <tr>\n",
       "      <th>0</th>\n",
       "      <td>female</td>\n",
       "      <td>group B</td>\n",
       "      <td>bachelor's degree</td>\n",
       "      <td>standard</td>\n",
       "      <td>none</td>\n",
       "      <td>1970</td>\n",
       "      <td>72.0</td>\n",
       "      <td>72</td>\n",
       "      <td>74</td>\n",
       "      <td>6/16/14</td>\n",
       "      <td>$84,835.00</td>\n",
       "    </tr>\n",
       "    <tr>\n",
       "      <th>1</th>\n",
       "      <td>female</td>\n",
       "      <td>group C</td>\n",
       "      <td>some college</td>\n",
       "      <td>standard</td>\n",
       "      <td>completed</td>\n",
       "      <td>1961</td>\n",
       "      <td>NaN</td>\n",
       "      <td>na</td>\n",
       "      <td>A</td>\n",
       "      <td>6/15/14</td>\n",
       "      <td>$57,091.00</td>\n",
       "    </tr>\n",
       "    <tr>\n",
       "      <th>2</th>\n",
       "      <td>female</td>\n",
       "      <td>group B</td>\n",
       "      <td>master's degree</td>\n",
       "      <td>standard</td>\n",
       "      <td>none</td>\n",
       "      <td>1958</td>\n",
       "      <td>90.0</td>\n",
       "      <td>95</td>\n",
       "      <td>93</td>\n",
       "      <td>5/13/14</td>\n",
       "      <td>$67,267.00</td>\n",
       "    </tr>\n",
       "    <tr>\n",
       "      <th>3</th>\n",
       "      <td>male</td>\n",
       "      <td>group A</td>\n",
       "      <td>associate's degree</td>\n",
       "      <td>free/reduced</td>\n",
       "      <td>none</td>\n",
       "      <td>1967</td>\n",
       "      <td>NaN</td>\n",
       "      <td>NaN</td>\n",
       "      <td>44</td>\n",
       "      <td>05-11-2014</td>\n",
       "      <td>$32,474.00</td>\n",
       "    </tr>\n",
       "    <tr>\n",
       "      <th>4</th>\n",
       "      <td>male</td>\n",
       "      <td>group C</td>\n",
       "      <td>some college</td>\n",
       "      <td>standard</td>\n",
       "      <td>none</td>\n",
       "      <td>1989</td>\n",
       "      <td>76.0</td>\n",
       "      <td>78</td>\n",
       "      <td>75</td>\n",
       "      <td>04-08-2014</td>\n",
       "      <td>$21,474.00</td>\n",
       "    </tr>\n",
       "  </tbody>\n",
       "</table>\n",
       "</div>"
      ],
      "text/plain": [
       "   gender race/ethnicity parental level of education         lunch  \\\n",
       "0  female        group B           bachelor's degree      standard   \n",
       "1  female        group C                some college      standard   \n",
       "2  female        group B             master's degree      standard   \n",
       "3    male        group A          associate's degree  free/reduced   \n",
       "4    male        group C                some college      standard   \n",
       "\n",
       "  test preparation course  Year_Birth  math score reading score writing score  \\\n",
       "0                    none        1970        72.0            72            74   \n",
       "1               completed        1961         NaN            na             A   \n",
       "2                    none        1958        90.0            95            93   \n",
       "3                    none        1967         NaN           NaN            44   \n",
       "4                    none        1989        76.0            78            75   \n",
       "\n",
       "  Dt_Admission College_Fees  \n",
       "0      6/16/14   $84,835.00  \n",
       "1      6/15/14   $57,091.00  \n",
       "2      5/13/14   $67,267.00  \n",
       "3   05-11-2014   $32,474.00  \n",
       "4   04-08-2014   $21,474.00  "
      ]
     },
     "execution_count": 76,
     "metadata": {},
     "output_type": "execute_result"
    }
   ],
   "source": [
    "df = pd.read_csv('AcademicPerformance.csv')\n",
    "df.head()"
   ]
  },
  {
   "cell_type": "code",
   "execution_count": 78,
   "id": "b5b240c0",
   "metadata": {},
   "outputs": [],
   "source": [
    "df['e_l'] = pd.DatetimeIndex(df['Dt_Admission']).year"
   ]
  },
  {
   "cell_type": "code",
   "execution_count": 81,
   "id": "b952ffd7",
   "metadata": {},
   "outputs": [],
   "source": [
    "from datetime import date"
   ]
  },
  {
   "cell_type": "code",
   "execution_count": 82,
   "id": "c9cb65a5",
   "metadata": {},
   "outputs": [
    {
     "data": {
      "text/plain": [
       "2023"
      ]
     },
     "execution_count": 82,
     "metadata": {},
     "output_type": "execute_result"
    }
   ],
   "source": [
    "date.today().year"
   ]
  },
  {
   "cell_type": "code",
   "execution_count": 83,
   "id": "cdd44e0e",
   "metadata": {},
   "outputs": [],
   "source": [
    "import seaborn as sns"
   ]
  },
  {
   "cell_type": "code",
   "execution_count": 85,
   "id": "779c996d",
   "metadata": {},
   "outputs": [],
   "source": [
    "df = pd.read_csv('titanic.csv')"
   ]
  },
  {
   "cell_type": "code",
   "execution_count": 86,
   "id": "44a32199",
   "metadata": {},
   "outputs": [
    {
     "data": {
      "text/html": [
       "<div>\n",
       "<style scoped>\n",
       "    .dataframe tbody tr th:only-of-type {\n",
       "        vertical-align: middle;\n",
       "    }\n",
       "\n",
       "    .dataframe tbody tr th {\n",
       "        vertical-align: top;\n",
       "    }\n",
       "\n",
       "    .dataframe thead th {\n",
       "        text-align: right;\n",
       "    }\n",
       "</style>\n",
       "<table border=\"1\" class=\"dataframe\">\n",
       "  <thead>\n",
       "    <tr style=\"text-align: right;\">\n",
       "      <th></th>\n",
       "      <th>PassengerId</th>\n",
       "      <th>Survived</th>\n",
       "      <th>Pclass</th>\n",
       "      <th>Name</th>\n",
       "      <th>Sex</th>\n",
       "      <th>Age</th>\n",
       "      <th>SibSp</th>\n",
       "      <th>Parch</th>\n",
       "      <th>Ticket</th>\n",
       "      <th>Fare</th>\n",
       "      <th>Cabin</th>\n",
       "      <th>Embarked</th>\n",
       "    </tr>\n",
       "  </thead>\n",
       "  <tbody>\n",
       "    <tr>\n",
       "      <th>0</th>\n",
       "      <td>1</td>\n",
       "      <td>0</td>\n",
       "      <td>3</td>\n",
       "      <td>Braund, Mr. Owen Harris</td>\n",
       "      <td>male</td>\n",
       "      <td>22.0</td>\n",
       "      <td>1</td>\n",
       "      <td>0</td>\n",
       "      <td>A/5 21171</td>\n",
       "      <td>7.2500</td>\n",
       "      <td>NaN</td>\n",
       "      <td>S</td>\n",
       "    </tr>\n",
       "    <tr>\n",
       "      <th>1</th>\n",
       "      <td>2</td>\n",
       "      <td>1</td>\n",
       "      <td>1</td>\n",
       "      <td>Cumings, Mrs. John Bradley (Florence Briggs Th...</td>\n",
       "      <td>female</td>\n",
       "      <td>38.0</td>\n",
       "      <td>1</td>\n",
       "      <td>0</td>\n",
       "      <td>PC 17599</td>\n",
       "      <td>71.2833</td>\n",
       "      <td>C85</td>\n",
       "      <td>C</td>\n",
       "    </tr>\n",
       "    <tr>\n",
       "      <th>2</th>\n",
       "      <td>3</td>\n",
       "      <td>1</td>\n",
       "      <td>3</td>\n",
       "      <td>Heikkinen, Miss. Laina</td>\n",
       "      <td>female</td>\n",
       "      <td>26.0</td>\n",
       "      <td>0</td>\n",
       "      <td>0</td>\n",
       "      <td>STON/O2. 3101282</td>\n",
       "      <td>7.9250</td>\n",
       "      <td>NaN</td>\n",
       "      <td>S</td>\n",
       "    </tr>\n",
       "    <tr>\n",
       "      <th>3</th>\n",
       "      <td>4</td>\n",
       "      <td>1</td>\n",
       "      <td>1</td>\n",
       "      <td>Futrelle, Mrs. Jacques Heath (Lily May Peel)</td>\n",
       "      <td>female</td>\n",
       "      <td>35.0</td>\n",
       "      <td>1</td>\n",
       "      <td>0</td>\n",
       "      <td>113803</td>\n",
       "      <td>53.1000</td>\n",
       "      <td>C123</td>\n",
       "      <td>S</td>\n",
       "    </tr>\n",
       "    <tr>\n",
       "      <th>4</th>\n",
       "      <td>5</td>\n",
       "      <td>0</td>\n",
       "      <td>3</td>\n",
       "      <td>Allen, Mr. William Henry</td>\n",
       "      <td>male</td>\n",
       "      <td>35.0</td>\n",
       "      <td>0</td>\n",
       "      <td>0</td>\n",
       "      <td>373450</td>\n",
       "      <td>8.0500</td>\n",
       "      <td>NaN</td>\n",
       "      <td>S</td>\n",
       "    </tr>\n",
       "  </tbody>\n",
       "</table>\n",
       "</div>"
      ],
      "text/plain": [
       "   PassengerId  Survived  Pclass  \\\n",
       "0            1         0       3   \n",
       "1            2         1       1   \n",
       "2            3         1       3   \n",
       "3            4         1       1   \n",
       "4            5         0       3   \n",
       "\n",
       "                                                Name     Sex   Age  SibSp  \\\n",
       "0                            Braund, Mr. Owen Harris    male  22.0      1   \n",
       "1  Cumings, Mrs. John Bradley (Florence Briggs Th...  female  38.0      1   \n",
       "2                             Heikkinen, Miss. Laina  female  26.0      0   \n",
       "3       Futrelle, Mrs. Jacques Heath (Lily May Peel)  female  35.0      1   \n",
       "4                           Allen, Mr. William Henry    male  35.0      0   \n",
       "\n",
       "   Parch            Ticket     Fare Cabin Embarked  \n",
       "0      0         A/5 21171   7.2500   NaN        S  \n",
       "1      0          PC 17599  71.2833   C85        C  \n",
       "2      0  STON/O2. 3101282   7.9250   NaN        S  \n",
       "3      0            113803  53.1000  C123        S  \n",
       "4      0            373450   8.0500   NaN        S  "
      ]
     },
     "execution_count": 86,
     "metadata": {},
     "output_type": "execute_result"
    }
   ],
   "source": [
    "df.head()"
   ]
  },
  {
   "cell_type": "code",
   "execution_count": 87,
   "id": "fd440299",
   "metadata": {},
   "outputs": [
    {
     "name": "stderr",
     "output_type": "stream",
     "text": [
      "C:\\Users\\ADMIN\\Anaconda\\lib\\site-packages\\seaborn\\distributions.py:2619: FutureWarning: `distplot` is a deprecated function and will be removed in a future version. Please adapt your code to use either `displot` (a figure-level function with similar flexibility) or `histplot` (an axes-level function for histograms).\n",
      "  warnings.warn(msg, FutureWarning)\n"
     ]
    },
    {
     "data": {
      "text/plain": [
       "<AxesSubplot:xlabel='Fare', ylabel='Density'>"
      ]
     },
     "execution_count": 87,
     "metadata": {},
     "output_type": "execute_result"
    },
    {
     "data": {
      "image/png": "[encoded data removed]",
      "text/plain": [
       "<Figure size 640x480 with 1 Axes>"
      ]
     },
     "metadata": {},
     "output_type": "display_data"
    }
   ],
   "source": [
    "sns.distplot(df['Fare'])"
   ]
  },
  {
   "cell_type": "code",
   "execution_count": 88,
   "id": "023e998e",
   "metadata": {},
   "outputs": [
    {
     "name": "stderr",
     "output_type": "stream",
     "text": [
      "C:\\Users\\ADMIN\\Anaconda\\lib\\site-packages\\seaborn\\distributions.py:2619: FutureWarning: `distplot` is a deprecated function and will be removed in a future version. Please adapt your code to use either `displot` (a figure-level function with similar flexibility) or `histplot` (an axes-level function for histograms).\n",
      "  warnings.warn(msg, FutureWarning)\n"
     ]
    },
    {
     "data": {
      "text/plain": [
       "<AxesSubplot:xlabel='Fare'>"
      ]
     },
     "execution_count": 88,
     "metadata": {},
     "output_type": "execute_result"
    },
    {
     "data": {
      "image/png": "[encoded data removed]",
      "text/plain": [
       "<Figure size 640x480 with 1 Axes>"
      ]
     },
     "metadata": {},
     "output_type": "display_data"
    }
   ],
   "source": [
    "sns.distplot(df['Fare'],kde=False)"
   ]
  },
  {
   "cell_type": "code",
   "execution_count": 89,
   "id": "0570ab46",
   "metadata": {},
   "outputs": [
    {
     "name": "stderr",
     "output_type": "stream",
     "text": [
      "C:\\Users\\ADMIN\\Anaconda\\lib\\site-packages\\seaborn\\_decorators.py:36: FutureWarning: Pass the following variable as a keyword arg: x. From version 0.12, the only valid positional argument will be `data`, and passing other arguments without an explicit keyword will result in an error or misinterpretation.\n",
      "  warnings.warn(\n"
     ]
    },
    {
     "data": {
      "text/plain": [
       "<AxesSubplot:xlabel='Sex', ylabel='count'>"
      ]
     },
     "execution_count": 89,
     "metadata": {},
     "output_type": "execute_result"
    },
    {
     "data": {
      "image/png": "[encoded data removed]",
      "text/plain": [
       "<Figure size 640x480 with 1 Axes>"
      ]
     },
     "metadata": {},
     "output_type": "display_data"
    }
   ],
   "source": [
    "sns.countplot(df['Sex'])"
   ]
  },
  {
   "cell_type": "code",
   "execution_count": 90,
   "id": "13775bc9",
   "metadata": {},
   "outputs": [
    {
     "data": {
      "text/plain": [
       "<AxesSubplot:xlabel='Age'>"
      ]
     },
     "execution_count": 90,
     "metadata": {},
     "output_type": "execute_result"
    },
    {
     "data": {
      "image/png": "[encoded data removed]",
      "text/plain": [
       "<Figure size 640x480 with 1 Axes>"
      ]
     },
     "metadata": {},
     "output_type": "display_data"
    }
   ],
   "source": [
    "sns.rugplot(df['Age'])"
   ]
  },
  {
   "cell_type": "code",
   "execution_count": 91,
   "id": "8e6ee122",
   "metadata": {},
   "outputs": [
    {
     "data": {
      "text/plain": [
       "<AxesSubplot:xlabel='Sex', ylabel='Age'>"
      ]
     },
     "execution_count": 91,
     "metadata": {},
     "output_type": "execute_result"
    },
    {
     "data": {
      "image/png": "[encoded data removed]",
      "text/plain": [
       "<Figure size 640x480 with 1 Axes>"
      ]
     },
     "metadata": {},
     "output_type": "display_data"
    }
   ],
   "source": [
    "sns.swarmplot(x ='Sex',y = 'Age',data = df)"
   ]
  },
  {
   "cell_type": "code",
   "execution_count": 92,
   "id": "29aa5b5c",
   "metadata": {},
   "outputs": [
    {
     "data": {
      "text/plain": [
       "<AxesSubplot:xlabel='Sex', ylabel='Age'>"
      ]
     },
     "execution_count": 92,
     "metadata": {},
     "output_type": "execute_result"
    },
    {
     "data": {
      "image/png": "[encoded data removed]",
      "text/plain": [
       "<Figure size 640x480 with 1 Axes>"
      ]
     },
     "metadata": {},
     "output_type": "display_data"
    }
   ],
   "source": [
    "sns.barplot(x='Sex',y='Age',data=df)"
   ]
  },
  {
   "cell_type": "code",
   "execution_count": 93,
   "id": "a2031088",
   "metadata": {},
   "outputs": [
    {
     "data": {
      "text/plain": [
       "<AxesSubplot:xlabel='Age', ylabel='Sex'>"
      ]
     },
     "execution_count": 93,
     "metadata": {},
     "output_type": "execute_result"
    },
    {
     "data": {
      "image/png": "[encoded data removed]",
      "text/plain": [
       "<Figure size 640x480 with 1 Axes>"
      ]
     },
     "metadata": {},
     "output_type": "display_data"
    }
   ],
   "source": [
    "sns.boxplot(x='Age',y='Sex',data=df)"
   ]
  },
  {
   "cell_type": "code",
   "execution_count": 94,
   "id": "a1b6b1e0",
   "metadata": {},
   "outputs": [
    {
     "data": {
      "text/plain": [
       "<AxesSubplot:xlabel='Sex', ylabel='Age'>"
      ]
     },
     "execution_count": 94,
     "metadata": {},
     "output_type": "execute_result"
    },
    {
     "data": {
      "image/png": "[encoded data removed]",
      "text/plain": [
       "<Figure size 640x480 with 1 Axes>"
      ]
     },
     "metadata": {},
     "output_type": "display_data"
    }
   ],
   "source": [
    "sns.boxplot(x='Sex',y='Age',data=df,hue='Survived')"
   ]
  },
  {
   "cell_type": "code",
   "execution_count": 95,
   "id": "b3c9ad35",
   "metadata": {},
   "outputs": [],
   "source": [
    "df1 = pd.read_csv('iris.csv')"
   ]
  },
  {
   "cell_type": "code",
   "execution_count": 96,
   "id": "4a68c7ec",
   "metadata": {},
   "outputs": [
    {
     "data": {
      "text/html": [
       "<div>\n",
       "<style scoped>\n",
       "    .dataframe tbody tr th:only-of-type {\n",
       "        vertical-align: middle;\n",
       "    }\n",
       "\n",
       "    .dataframe tbody tr th {\n",
       "        vertical-align: top;\n",
       "    }\n",
       "\n",
       "    .dataframe thead th {\n",
       "        text-align: right;\n",
       "    }\n",
       "</style>\n",
       "<table border=\"1\" class=\"dataframe\">\n",
       "  <thead>\n",
       "    <tr style=\"text-align: right;\">\n",
       "      <th></th>\n",
       "      <th>Id</th>\n",
       "      <th>SepalLengthCm</th>\n",
       "      <th>SepalWidthCm</th>\n",
       "      <th>PetalLengthCm</th>\n",
       "      <th>PetalWidthCm</th>\n",
       "      <th>Species</th>\n",
       "    </tr>\n",
       "  </thead>\n",
       "  <tbody>\n",
       "    <tr>\n",
       "      <th>0</th>\n",
       "      <td>1</td>\n",
       "      <td>5.1</td>\n",
       "      <td>3.5</td>\n",
       "      <td>1.4</td>\n",
       "      <td>0.2</td>\n",
       "      <td>Iris-setosa</td>\n",
       "    </tr>\n",
       "    <tr>\n",
       "      <th>1</th>\n",
       "      <td>2</td>\n",
       "      <td>4.9</td>\n",
       "      <td>3.0</td>\n",
       "      <td>1.4</td>\n",
       "      <td>0.2</td>\n",
       "      <td>Iris-setosa</td>\n",
       "    </tr>\n",
       "    <tr>\n",
       "      <th>2</th>\n",
       "      <td>3</td>\n",
       "      <td>4.7</td>\n",
       "      <td>3.2</td>\n",
       "      <td>1.3</td>\n",
       "      <td>0.2</td>\n",
       "      <td>Iris-setosa</td>\n",
       "    </tr>\n",
       "    <tr>\n",
       "      <th>3</th>\n",
       "      <td>4</td>\n",
       "      <td>4.6</td>\n",
       "      <td>3.1</td>\n",
       "      <td>1.5</td>\n",
       "      <td>0.2</td>\n",
       "      <td>Iris-setosa</td>\n",
       "    </tr>\n",
       "    <tr>\n",
       "      <th>4</th>\n",
       "      <td>5</td>\n",
       "      <td>5.0</td>\n",
       "      <td>3.6</td>\n",
       "      <td>1.4</td>\n",
       "      <td>0.2</td>\n",
       "      <td>Iris-setosa</td>\n",
       "    </tr>\n",
       "  </tbody>\n",
       "</table>\n",
       "</div>"
      ],
      "text/plain": [
       "   Id  SepalLengthCm  SepalWidthCm  PetalLengthCm  PetalWidthCm      Species\n",
       "0   1            5.1           3.5            1.4           0.2  Iris-setosa\n",
       "1   2            4.9           3.0            1.4           0.2  Iris-setosa\n",
       "2   3            4.7           3.2            1.3           0.2  Iris-setosa\n",
       "3   4            4.6           3.1            1.5           0.2  Iris-setosa\n",
       "4   5            5.0           3.6            1.4           0.2  Iris-setosa"
      ]
     },
     "execution_count": 96,
     "metadata": {},
     "output_type": "execute_result"
    }
   ],
   "source": [
    "df1.head()"
   ]
  },
  {
   "cell_type": "code",
   "execution_count": 103,
   "id": "979decb2",
   "metadata": {},
   "outputs": [
    {
     "name": "stdout",
     "output_type": "stream",
     "text": [
      "             Id  SepalLengthCm  SepalWidthCm  PetalLengthCm  PetalWidthCm\n",
      "count  50.00000       50.00000     50.000000      50.000000      50.00000\n",
      "mean   25.50000        5.00600      3.418000       1.464000       0.24400\n",
      "std    14.57738        0.35249      0.381024       0.173511       0.10721\n",
      "min     1.00000        4.30000      2.300000       1.000000       0.10000\n",
      "25%    13.25000        4.80000      3.125000       1.400000       0.20000\n",
      "50%    25.50000        5.00000      3.400000       1.500000       0.20000\n",
      "75%    37.75000        5.20000      3.675000       1.575000       0.30000\n",
      "max    50.00000        5.80000      4.400000       1.900000       0.60000\n",
      "              Id  SepalLengthCm  SepalWidthCm  PetalLengthCm  PetalWidthCm\n",
      "count   50.00000      50.000000     50.000000      50.000000     50.000000\n",
      "mean    75.50000       5.936000      2.770000       4.260000      1.326000\n",
      "std     14.57738       0.516171      0.313798       0.469911      0.197753\n",
      "min     51.00000       4.900000      2.000000       3.000000      1.000000\n",
      "25%     63.25000       5.600000      2.525000       4.000000      1.200000\n",
      "50%     75.50000       5.900000      2.800000       4.350000      1.300000\n",
      "75%     87.75000       6.300000      3.000000       4.600000      1.500000\n",
      "max    100.00000       7.000000      3.400000       5.100000      1.800000\n",
      "              Id  SepalLengthCm  SepalWidthCm  PetalLengthCm  PetalWidthCm\n",
      "count   50.00000       50.00000     50.000000      50.000000      50.00000\n",
      "mean   125.50000        6.58800      2.974000       5.552000       2.02600\n",
      "std     14.57738        0.63588      0.322497       0.551895       0.27465\n",
      "min    101.00000        4.90000      2.200000       4.500000       1.40000\n",
      "25%    113.25000        6.22500      2.800000       5.100000       1.80000\n",
      "50%    125.50000        6.50000      3.000000       5.550000       2.00000\n",
      "75%    137.75000        6.90000      3.175000       5.875000       2.30000\n",
      "max    150.00000        7.90000      3.800000       6.900000       2.50000\n"
     ]
    }
   ],
   "source": [
    "setosa = df1['Species'] =='Iris-setosa'\n",
    "print(df1[setosa].describe())\n",
    "versicolor = df1['Species'] =='Iris-versicolor'\n",
    "print(df1[versicolor].describe())\n",
    "virginica = df1['Species'] == 'Iris-virginica'\n",
    "print(df1[virginica].describe())"
   ]
  },
  {
   "cell_type": "code",
   "execution_count": 102,
   "id": "b6679cfc",
   "metadata": {},
   "outputs": [
    {
     "data": {
      "text/plain": [
       "array(['Iris-setosa', 'Iris-versicolor', 'Iris-virginica'], dtype=object)"
      ]
     },
     "execution_count": 102,
     "metadata": {},
     "output_type": "execute_result"
    }
   ],
   "source": [
    "df1['Species'].unique()"
   ]
  },
  {
   "cell_type": "code",
   "execution_count": 104,
   "id": "82614a55",
   "metadata": {},
   "outputs": [],
   "source": [
    "import nltk"
   ]
  },
  {
   "cell_type": "code",
   "execution_count": null,
   "id": "2f46f694",
   "metadata": {},
   "outputs": [],
   "source": [
    "from nltk import word_tokenize,sent_tokenize\n",
    "from nlrk.corpus import "
   ]
  }
 ],
 "metadata": {
  "kernelspec": {
   "display_name": "Python 3 (ipykernel)",
   "language": "python",
   "name": "python3"
  },
  "language_info": {
   "codemirror_mode": {
    "name": "ipython",
    "version": 3
   },
   "file_extension": ".py",
   "mimetype": "text/x-python",
   "name": "python",
   "nbconvert_exporter": "python",
   "pygments_lexer": "ipython3",
   "version": "3.9.13"
  }
 },
 "nbformat": 4,
 "nbformat_minor": 5
}
